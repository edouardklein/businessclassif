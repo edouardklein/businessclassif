{
 "cells": [
  {
   "cell_type": "code",
   "execution_count": 1,
   "metadata": {
    "collapsed": true
   },
   "outputs": [],
   "source": [
    "from data_load import *"
   ]
  },
  {
   "cell_type": "code",
   "execution_count": 2,
   "metadata": {
    "collapsed": false
   },
   "outputs": [
    {
     "data": {
      "text/plain": [
       "(11352, 11352)"
      ]
     },
     "execution_count": 2,
     "metadata": {},
     "output_type": "execute_result"
    }
   ],
   "source": [
    "len(all_yks), len({yk for yk in all_yks if len(year_key2supercategories[yk]) > 0})"
   ]
  },
  {
   "cell_type": "code",
   "execution_count": 2,
   "metadata": {
    "collapsed": false
   },
   "outputs": [
    {
     "data": {
      "text/plain": [
       "(32197, 15386, 11352)"
      ]
     },
     "execution_count": 2,
     "metadata": {},
     "output_type": "execute_result"
    }
   ],
   "source": [
    "len(cik2gvkey), len(gvkey2cik), len(all_yks)"
   ]
  },
  {
   "cell_type": "code",
   "execution_count": 9,
   "metadata": {
    "collapsed": false
   },
   "outputs": [
    {
     "data": {
      "text/plain": [
       "(32197, 55278)"
      ]
     },
     "execution_count": 9,
     "metadata": {},
     "output_type": "execute_result"
    }
   ],
   "source": [
    "len(set(t['cik'])), len(set(t['gvkey']))"
   ]
  },
  {
   "cell_type": "markdown",
   "metadata": {},
   "source": [
    "We have 32197 uniques CIKs, but 55278 uniques GVKeys, yet in the file some CIKs do not have an associated GVKey, therefore there should be more CIK than GVkeys, not the other way around.\n",
    "\n",
    "This means that there is at least one CIK that is mapped to multiple GVkeys. Let's find it :"
   ]
  },
  {
   "cell_type": "code",
   "execution_count": 10,
   "metadata": {
    "collapsed": false
   },
   "outputs": [],
   "source": [
    "c2g = {}\n",
    "for i in t.index:\n",
    "    cik = t['cik'][i]\n",
    "    gvkey = t['gvkey'][i]\n",
    "    try:\n",
    "        if not (c2g[cik] == gvkey or (math.isnan(c2g[cik]) and math.isnan(gvkey))):\n",
    "            print('Cik {} <-> {}, {} !!!'.format(cik, c2g[cik], gvkey))\n",
    "    except KeyError:\n",
    "        c2g[cik] = gvkey"
   ]
  },
  {
   "cell_type": "code",
   "execution_count": 15,
   "metadata": {
    "collapsed": false
   },
   "outputs": [
    {
     "data": {
      "text/plain": [
       "(32197, 55278)"
      ]
     },
     "execution_count": 15,
     "metadata": {},
     "output_type": "execute_result"
    }
   ],
   "source": [
    "len(set(gvkey2cik.values())), len(gvkey2cik)"
   ]
  },
  {
   "cell_type": "code",
   "execution_count": 21,
   "metadata": {
    "collapsed": false
   },
   "outputs": [
    {
     "data": {
      "text/plain": [
       "23081"
      ]
     },
     "execution_count": 21,
     "metadata": {},
     "output_type": "execute_result"
    }
   ],
   "source": [
    "55278-32197"
   ]
  },
  {
   "cell_type": "code",
   "execution_count": 18,
   "metadata": {
    "collapsed": false
   },
   "outputs": [
    {
     "data": {
      "text/plain": [
       "39892"
      ]
     },
     "execution_count": 18,
     "metadata": {},
     "output_type": "execute_result"
    }
   ],
   "source": [
    "len(set(gvkey2cik.keys()) - set(cik2gvkey.values()))"
   ]
  },
  {
   "cell_type": "code",
   "execution_count": 20,
   "metadata": {
    "collapsed": false
   },
   "outputs": [
    {
     "data": {
      "text/plain": [
       "[nan,\n",
       " nan,\n",
       " nan,\n",
       " nan,\n",
       " nan,\n",
       " nan,\n",
       " nan,\n",
       " nan,\n",
       " nan,\n",
       " nan,\n",
       " nan,\n",
       " nan,\n",
       " nan,\n",
       " nan,\n",
       " nan,\n",
       " nan,\n",
       " nan,\n",
       " nan,\n",
       " nan,\n",
       " nan,\n",
       " nan,\n",
       " nan,\n",
       " nan,\n",
       " nan,\n",
       " nan,\n",
       " nan,\n",
       " nan,\n",
       " nan,\n",
       " nan,\n",
       " nan,\n",
       " nan,\n",
       " nan,\n",
       " nan,\n",
       " nan,\n",
       " nan,\n",
       " nan,\n",
       " nan,\n",
       " nan,\n",
       " nan,\n",
       " nan,\n",
       " nan,\n",
       " nan,\n",
       " nan,\n",
       " nan,\n",
       " nan,\n",
       " nan,\n",
       " nan,\n",
       " nan,\n",
       " nan,\n",
       " nan,\n",
       " nan,\n",
       " nan,\n",
       " nan,\n",
       " nan,\n",
       " nan,\n",
       " nan,\n",
       " nan,\n",
       " nan,\n",
       " nan,\n",
       " nan,\n",
       " nan,\n",
       " nan,\n",
       " nan,\n",
       " nan,\n",
       " nan,\n",
       " nan,\n",
       " nan,\n",
       " nan,\n",
       " nan,\n",
       " nan,\n",
       " nan,\n",
       " nan,\n",
       " nan,\n",
       " nan,\n",
       " nan,\n",
       " nan,\n",
       " nan,\n",
       " nan,\n",
       " nan,\n",
       " nan,\n",
       " nan,\n",
       " nan,\n",
       " nan,\n",
       " nan,\n",
       " nan,\n",
       " nan,\n",
       " nan,\n",
       " nan,\n",
       " nan,\n",
       " nan,\n",
       " nan,\n",
       " nan,\n",
       " nan,\n",
       " nan,\n",
       " nan,\n",
       " nan,\n",
       " nan,\n",
       " nan,\n",
       " nan,\n",
       " nan]"
      ]
     },
     "execution_count": 20,
     "metadata": {},
     "output_type": "execute_result"
    }
   ],
   "source": [
    "l = list(set(gvkey2cik.keys()) - set(cik2gvkey.values()))\n",
    "l[:100]"
   ]
  },
  {
   "cell_type": "code",
   "execution_count": 12,
   "metadata": {
    "collapsed": false
   },
   "outputs": [
    {
     "data": {
      "text/plain": [
       "145499"
      ]
     },
     "execution_count": 12,
     "metadata": {},
     "output_type": "execute_result"
    }
   ],
   "source": [
    "len(t.index)"
   ]
  },
  {
   "cell_type": "code",
   "execution_count": 31,
   "metadata": {
    "collapsed": false
   },
   "outputs": [
    {
     "data": {
      "text/plain": [
       "nan"
      ]
     },
     "execution_count": 31,
     "metadata": {},
     "output_type": "execute_result"
    }
   ],
   "source": [
    "cik2gvkey[1576873]"
   ]
  },
  {
   "cell_type": "code",
   "execution_count": 32,
   "metadata": {
    "collapsed": true
   },
   "outputs": [],
   "source": [
    "gvkey2cik = {(int(t['gvkey'][i]) if not math.isnan(t['gvkey'][i]) else float('NaN')):t['cik'][i] for i in t.index}"
   ]
  },
  {
   "cell_type": "code",
   "execution_count": 36,
   "metadata": {
    "collapsed": false
   },
   "outputs": [
    {
     "ename": "KeyError",
     "evalue": "nan",
     "output_type": "error",
     "traceback": [
      "\u001b[1;31m---------------------------------------------------------------------------\u001b[0m",
      "\u001b[1;31mKeyError\u001b[0m                                  Traceback (most recent call last)",
      "\u001b[1;32m<ipython-input-36-005ebe667e32>\u001b[0m in \u001b[0;36m<module>\u001b[1;34m()\u001b[0m\n\u001b[1;32m----> 1\u001b[1;33m \u001b[0mgvkey2cik\u001b[0m\u001b[1;33m[\u001b[0m\u001b[0mfloat\u001b[0m\u001b[1;33m(\u001b[0m\u001b[1;34m'NaN'\u001b[0m\u001b[1;33m)\u001b[0m\u001b[1;33m]\u001b[0m\u001b[1;33m\u001b[0m\u001b[0m\n\u001b[0m",
      "\u001b[1;31mKeyError\u001b[0m: nan"
     ]
    }
   ],
   "source": [
    "gvkey2cik[float('NaN')]"
   ]
  },
  {
   "cell_type": "code",
   "execution_count": 37,
   "metadata": {
    "collapsed": false
   },
   "outputs": [
    {
     "data": {
      "text/plain": [
       "11569"
      ]
     },
     "execution_count": 37,
     "metadata": {},
     "output_type": "execute_result"
    }
   ],
   "source": [
    "len(year_key2categories.items())"
   ]
  },
  {
   "cell_type": "code",
   "execution_count": 2,
   "metadata": {
    "collapsed": false
   },
   "outputs": [
    {
     "data": {
      "text/plain": [
       "[((1999, 64247, 12497), {308, 344}),\n",
       " ((1999, 838875, 30666), {208}),\n",
       " ((1999, 748580, 12110), {679}),\n",
       " ((1998, 910612, 29082), {679}),\n",
       " ((1998, 895659, 28494), {807}),\n",
       " ((1999, 719739, 17120), {602}),\n",
       " ((1999, 21828, 3184), {507}),\n",
       " ((1998, 789863, 12047), {245, 527, 614}),\n",
       " ((1999, 1039690, 65795), {171}),\n",
       " ((1999, 726514, 4274), {369}),\n",
       " ((1999, 1019265, 64198), {348, 382}),\n",
       " ((1998, 947116, 61247), {737}),\n",
       " ((1999, 26780, 3734), {371}),\n",
       " ((1999, 1013698, 63939), {633}),\n",
       " ((1999, 947661, 63572), {514, 581}),\n",
       " ((1999, 924140, 61397), {565}),\n",
       " ((1999, 10119, 2058), {382}),\n",
       " ((1998, 786765, 13193), {736, 753}),\n",
       " ((1998, 933141, 24466), {602}),\n",
       " ((1998, 824008, 19914), {737}),\n",
       " ((1998, 356213, 5671), {799}),\n",
       " ((1998, 351220, 2461), {581}),\n",
       " ((1999, 846729, 15302), {421}),\n",
       " ((1998, 887757, 28252), {804}),\n",
       " ((1998, 888919, 25877), {633, 641}),\n",
       " ((1999, 807863, 14113), {357}),\n",
       " ((1999, 848446, 11225), {306, 651}),\n",
       " ((1999, 50493, 12972), {202, 541, 651}),\n",
       " ((1998, 84567, 9195), {481, 506}),\n",
       " ((1999, 53117, 6226), {262, 267}),\n",
       " ((1998, 891788, 26247), {357}),\n",
       " ((1998, 905724, 28585), {737}),\n",
       " ((1998, 1003608, 63003), {384}),\n",
       " ((1999, 1057058, 110732), {495}),\n",
       " ((1998, 941604, 65026), {357}),\n",
       " ((1999, 70858, 7647), {602}),\n",
       " ((1998, 910606, 29099), {653, 679}),\n",
       " ((1998, 77159, 8440), {131, 679}),\n",
       " ((1998, 316736, 106418), {131}),\n",
       " ((1999, 1061692, 116210), {603}),\n",
       " ((1999, 41077, 5134), {243, 262, 265}),\n",
       " ((1999, 718074, 8017), {367}),\n",
       " ((1999, 908440, 28744), {737}),\n",
       " ((1999, 1018946, 63971), {723}),\n",
       " ((1998, 899381, 62735), {384}),\n",
       " ((1998, 894743, 28078), {357}),\n",
       " ((1999, 837465, 24978), {394}),\n",
       " ((1998, 911684, 66027), {384}),\n",
       " ((1999, 714154, 3282), {357}),\n",
       " ((1998, 874214, 21828), {562}),\n",
       " ((1998, 1021860, 63892), {353}),\n",
       " ((1999, 865415, 61726), {737}),\n",
       " ((1998, 98246, 13646), {594}),\n",
       " ((1999, 23055, 3277), {737}),\n",
       " ((1999, 1005697, 62314), {737}),\n",
       " ((1999, 778437, 13151), {679}),\n",
       " ((1998, 1046203, 31703), {602}),\n",
       " ((1998, 54991, 6370), {382}),\n",
       " ((1998, 315852, 6788), {131}),\n",
       " ((1998, 1038357, 14359), {131}),\n",
       " ((1999, 1027430, 64491), {794}),\n",
       " ((1998, 40987, 5125), {364, 508, 511}),\n",
       " ((1998, 930405, 31489), {603}),\n",
       " ((1999, 837339, 15089), {421, 735}),\n",
       " ((1999, 721083, 9772), {507}),\n",
       " ((1998, 6383, 1641), {364, 679}),\n",
       " ((1998, 921438, 30225), {504}),\n",
       " ((1999, 225261, 3700), {251}),\n",
       " ((1999, 917331, 110771), {602}),\n",
       " ((1999, 1042351, 65469), {508}),\n",
       " ((1999, 944739, 60846), {367}),\n",
       " ((1998, 781902, 12722), {356}),\n",
       " ((1998, 878725, 24662), {384}),\n",
       " ((1998, 814453, 7875), {259, 336, 395}),\n",
       " ((1999, 857470, 20889), {737}),\n",
       " ((1999, 908598, 28712), {382}),\n",
       " ((1999, 895364, 66367), {591}),\n",
       " ((1998, 3133, 1619), {602}),\n",
       " ((1998, 1024752, 64309), {737}),\n",
       " ((1999, 809875, 21685), {283}),\n",
       " ((1999, 1072886, 118876), {603}),\n",
       " ((1999, 943742, 64054), {274}),\n",
       " ((1998, 855876, 28342), {602}),\n",
       " ((1999, 1037599, 65464), {737}),\n",
       " ((1999, 709355, 12688), {517}),\n",
       " ((1998, 1024452, 64130), {517}),\n",
       " ((1998, 95029, 10124), {348}),\n",
       " ((1999, 847468, 60825), {495}),\n",
       " ((1999, 104599, 3054), {506, 573}),\n",
       " ((1999, 1037646, 65772), {359}),\n",
       " ((1998, 829608, 22221), {809}),\n",
       " ((1998, 930795, 30989), {375}),\n",
       " ((1998, 906107, 28733), {679}),\n",
       " ((1998, 1034239, 64896), {399}),\n",
       " ((1998, 1037649, 65930), {283}),\n",
       " ((1998, 795255, 12466), {628, 679}),\n",
       " ((1998, 712534, 16845), {602}),\n",
       " ((1999, 890465, 30255), {283}),\n",
       " ((1999, 1011659, 2620), {602}),\n",
       " ((1999, 1013556, 63188), {495})]"
      ]
     },
     "execution_count": 2,
     "metadata": {},
     "output_type": "execute_result"
    }
   ],
   "source": [
    "[x for x in year_key2categories.items()][0:100]"
   ]
  },
  {
   "cell_type": "code",
   "execution_count": 14,
   "metadata": {
    "collapsed": false
   },
   "outputs": [
    {
     "data": {
      "text/plain": [
       "{1, 2, 3, 4}"
      ]
     },
     "execution_count": 14,
     "metadata": {},
     "output_type": "execute_result"
    }
   ],
   "source": [
    "a = set([1,2,3])\n",
    "b = set([3,4])\n",
    "a |= b\n",
    "a"
   ]
  }
 ],
 "metadata": {
  "kernelspec": {
   "display_name": "Python 3",
   "language": "python",
   "name": "python3"
  },
  "language_info": {
   "codemirror_mode": {
    "name": "ipython",
    "version": 3
   },
   "file_extension": ".py",
   "mimetype": "text/x-python",
   "name": "python",
   "nbconvert_exporter": "python",
   "pygments_lexer": "ipython3",
   "version": "3.4.3"
  }
 },
 "nbformat": 4,
 "nbformat_minor": 0
}
